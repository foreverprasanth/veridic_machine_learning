{
 "cells": [
  {
   "cell_type": "markdown",
   "metadata": {},
   "source": [
    "HINTS: If you want to take input using keyboard use input('enter the name:'), and when you execute it, python will prompt you to enter the name. Default input taken is a string, Use type casting int(), str() to convert type as needed."
   ]
  },
  {
   "cell_type": "markdown",
   "metadata": {},
   "source": [
    "1. Write a Python program to get a string made of the first 2 and the last chars from a given a string?\n",
    "\n",
    "string = 'veridicsolutions'\n",
    "\n",
    "expected output = vens\n"
   ]
  },
  {
   "cell_type": "code",
   "execution_count": 1,
   "metadata": {},
   "outputs": [
    {
     "name": "stdout",
     "output_type": "stream",
     "text": [
      "Please enter the string: Python Practice\n",
      "Pyce\n"
     ]
    }
   ],
   "source": [
    "user_input_string = input (\"Please enter the string: \")\n",
    "number_of_characters_in_string = len(user_input_string) - user_input_string.count(' ') #checking for white spaces\n",
    "\n",
    "if number_of_characters_in_string < 4:\n",
    "    print(\"Error - Desired string creation is not possible\")\n",
    "else:\n",
    "    print(user_input_string[0]+user_input_string[1]+user_input_string[-2]+user_input_string[-1])"
   ]
  },
  {
   "cell_type": "markdown",
   "metadata": {},
   "source": [
    "2. Write a program to add up the last 2 characters 3 times for the above string?\n",
    "\n",
    "expected output = nsnsns"
   ]
  },
  {
   "cell_type": "code",
   "execution_count": 2,
   "metadata": {},
   "outputs": [
    {
     "name": "stdout",
     "output_type": "stream",
     "text": [
      "cecece\n"
     ]
    }
   ],
   "source": [
    "if number_of_characters_in_string < 2:\n",
    "    print(\"Error - Less than 2 characters in String\")\n",
    "else:\n",
    "    new_string=''\n",
    "    for i in range(0,3):\n",
    "        new_string = new_string + user_input_string[-2]+user_input_string[-1]\n",
    "        \n",
    "print(new_string)"
   ]
  },
  {
   "cell_type": "markdown",
   "metadata": {},
   "source": [
    "3. Read two integers from input() and print five lines where:\n",
    "    a.\tThe first line contains the sum of the two numbers.\n",
    "    b.\tThe second line contains the difference of the two numbers (first - second).\n",
    "    c.\tThe third line contains the product of the two numbers.\n",
    "    d.\t The fourth line should contain integer division, a//b.\n",
    "    e.\tThe fifth line should contain float division, a/b.\n"
   ]
  },
  {
   "cell_type": "code",
   "execution_count": 3,
   "metadata": {},
   "outputs": [
    {
     "name": "stdout",
     "output_type": "stream",
     "text": [
      "Enter two numbers32 56\n",
      "Sum= 88\n",
      "Difference= -24\n",
      "Product= 1792\n",
      "Integer Division = 0\n",
      "Float Division= 0.5714285714285714\n"
     ]
    }
   ],
   "source": [
    "a,b=input(\"Enter two numbers\").split()\n",
    "\n",
    "try:\n",
    "    a,b= int(a),int(b) #checking for inputs other than numbers\n",
    "except:\n",
    "    print(\"Error - Please enter only numbers\")\n",
    "\n",
    "print(\"Sum=\",a+b)\n",
    "print(\"Difference=\",a-b)\n",
    "print(\"Product=\",a*b)\n",
    "\n",
    "try: #checking for 0 in denominator\n",
    "    print(\"Integer Division =\", a//b) \n",
    "    print(\"Float Division=\", a/b)\n",
    "except:\n",
    "    print(\"Error - The Denominator is 0 - For Integer Division, Float Division - Result Undefined\")"
   ]
  },
  {
   "cell_type": "markdown",
   "metadata": {},
   "source": [
    "4. Write a program to print the following using string slicing given the string is ‘Python’\n",
    "    1.\t‘P’\n",
    "    2.\t‘n’\n",
    "    3.\t‘ytho’\n",
    "    4.\t‘on’\n",
    "    5.\t‘Py’\n"
   ]
  },
  {
   "cell_type": "code",
   "execution_count": 4,
   "metadata": {},
   "outputs": [
    {
     "name": "stdout",
     "output_type": "stream",
     "text": [
      "P\n",
      "n\n",
      "ytho\n",
      "on\n",
      "Py\n"
     ]
    }
   ],
   "source": [
    "Given_String = \"Python\"\n",
    "String_length = len(Given_String)\n",
    "\n",
    "#Generalizing our requirement using the slice method\n",
    "A_slice = slice(1)\n",
    "B_slice = slice(String_length-1,String_length)\n",
    "C_slice = slice(1,String_length-1)\n",
    "D_slice = slice(String_length-2,String_length)\n",
    "E_slice = slice(2)\n",
    "\n",
    "print(Given_String[A_slice])\n",
    "print(Given_String[B_slice])\n",
    "print(Given_String[C_slice])\n",
    "print(Given_String[D_slice])\n",
    "print(Given_String[E_slice])"
   ]
  },
  {
   "cell_type": "markdown",
   "metadata": {},
   "source": [
    "5. Given 2 strings, print their concatenation, except omit the first char of each. The strings will be atleast length 1.        \n",
    "Example: 'Hello', 'There'  expected output:  'ellohere'\n"
   ]
  },
  {
   "cell_type": "code",
   "execution_count": 5,
   "metadata": {},
   "outputs": [
    {
     "name": "stdout",
     "output_type": "stream",
     "text": [
      "Enter the two strings machine learning\n",
      "achineearning\n"
     ]
    }
   ],
   "source": [
    "str_1,str_2 = input(\"Enter the two strings \").split()\n",
    "\n",
    "len_str_1 = len(str_1)\n",
    "len_str_2 = len(str_2)\n",
    "\n",
    "if len_str_1 ==1 and len_str_2 ==1:\n",
    "    print(\"Error - Strings must be atleast of length > 1\")\n",
    "else:\n",
    "    print(str_1[1:len_str_1]+str_2[1:len_str_2])"
   ]
  },
  {
   "cell_type": "markdown",
   "metadata": {},
   "source": [
    "6. Given the participants' score sheet for your University Sports Day, you are required to find the runner-up score. You are given scores. Store them in a list and find the score of the runner-up.\n",
    "\n",
    "Example: Given list is [2,3,6,6,5]. The maximum score is 6, second maximum is 5. Hence, we print 5 as the runner-up score.\n"
   ]
  },
  {
   "cell_type": "code",
   "execution_count": 6,
   "metadata": {},
   "outputs": [
    {
     "name": "stdout",
     "output_type": "stream",
     "text": [
      "5\n"
     ]
    }
   ],
   "source": [
    "Our_List=[2,3,6,6,5]\n",
    "\n",
    "duplicates_removed_list = set(Our_List)\n",
    "if len(duplicates_removed_list)>1:\n",
    "    print(sorted(duplicates_removed_list )[-2])\n",
    "else:\n",
    "    print(\"Error - There is no second maximum\")"
   ]
  },
  {
   "cell_type": "markdown",
   "metadata": {},
   "source": [
    "7. Given a student’s marks list as 56, 75, 89, 78. Calculate and print the total marks and the percentage that the student obtained. (Info: Total marks for each subject is 100)"
   ]
  },
  {
   "cell_type": "code",
   "execution_count": 7,
   "metadata": {},
   "outputs": [
    {
     "name": "stdout",
     "output_type": "stream",
     "text": [
      "Total_marks= 298\n",
      "Percentage= 74.5 %\n"
     ]
    }
   ],
   "source": [
    "Mark_list = [56,75,89,78]\n",
    "\n",
    "Total_marks=sum(Mark_list)\n",
    "Percentage= Total_marks / len(Mark_list)\n",
    "\n",
    "print(\"Total_marks=\",Total_marks)\n",
    "print(\"Percentage=\",Percentage,\"%\")"
   ]
  },
  {
   "cell_type": "markdown",
   "metadata": {},
   "source": [
    "8. Write a program to swap two numbers given only 2 variables 'a' and 'b' ( condition: No other variables should be declared other than a and b)"
   ]
  },
  {
   "cell_type": "code",
   "execution_count": 8,
   "metadata": {},
   "outputs": [
    {
     "name": "stdout",
     "output_type": "stream",
     "text": [
      "a,b before swap ->  10   20\n",
      "a,b after swap ->  20   10\n"
     ]
    }
   ],
   "source": [
    "a=10\n",
    "b=20\n",
    "\n",
    "print(\"a,b before swap -> \",a,\" \",b)\n",
    "\n",
    "a=a+b\n",
    "b=a-b\n",
    "a=a-b\n",
    "\n",
    "print(\"a,b after swap -> \",a,\" \",b)"
   ]
  },
  {
   "cell_type": "markdown",
   "metadata": {},
   "source": [
    "9. write a program to print the are and perimeter of a circle, given radisu is input from keyboard. ( PI value = 3.14)\n",
    "Area = PI * radius**2\n",
    "perimeter = 2* PI * radius"
   ]
  },
  {
   "cell_type": "code",
   "execution_count": 9,
   "metadata": {},
   "outputs": [
    {
     "name": "stdout",
     "output_type": "stream",
     "text": [
      "Enter Radius 25\n",
      "157.07963267948966\n",
      "157.07963267948966\n"
     ]
    }
   ],
   "source": [
    "import math\n",
    "Pi=math.pi\n",
    "\n",
    "Radius = int(input(\"Enter Radius \"))\n",
    "\n",
    "Area = 2*Pi*Radius\n",
    "Perimeter = 2*Pi*Radius\n",
    "\n",
    "print(Area)\n",
    "print(Perimeter)"
   ]
  },
  {
   "cell_type": "markdown",
   "metadata": {},
   "source": [
    "10. Practice string methods, list methods, dict methods "
   ]
  },
  {
   "cell_type": "code",
   "execution_count": 10,
   "metadata": {},
   "outputs": [
    {
     "name": "stdout",
     "output_type": "stream",
     "text": [
      "Python string methods\n",
      "@@@@Python String Methods@@@@@\n",
      "python string methods\n",
      "1\n",
      "True\n",
      "9\n",
      "False\n",
      "1ABC2ABC3\n",
      "[56, 75, 89, 78, 100]\n",
      "[56, 75, 89, 78, 100, 2, 3, 6, 6, 5]\n",
      "[90, 56, 75, 89, 78, 100, 2, 3, 6, 6, 5]\n",
      "[56, 75, 89, 78, 100, 2, 3, 6, 6, 5]\n",
      "2\n",
      "4\n",
      "[5, 6, 6, 3, 2, 100, 78, 89, 75, 56]\n",
      "6\n",
      "[5, 6, 3, 2, 100, 78, 89, 75, 56]\n",
      "[2, 3, 5, 6, 56, 75, 78, 89, 100]\n",
      "[]\n",
      "dict_items([(1, 'Python'), (2, 'Data Science'), (3, 'R'), (4, 'SQL'), (5, 'Git')])\n",
      "{40: 'test', 10: 'test', 50: 'test', 20: 'test', 30: 'test'}\n",
      "Python\n",
      "dict_keys([1, 2, 3, 4, 5])\n",
      "{1: 'Python', 2: 'Data Science', 3: 'R', 4: 'SQL', 5: 'Git', 6: 'Weka'}\n"
     ]
    }
   ],
   "source": [
    "#String Methods\n",
    "Sample_String = \"Python String Methods\"\n",
    "Sample_String_1 = \"ABC\"\n",
    "Sample_String_2 =\"123\"\n",
    "\n",
    "print(Sample_String.capitalize()) # Capitalizes the first Character of the string\n",
    "print(Sample_String.center(30,'@')) # Fills the string with the given character argument upto the \"specified length - length of the string\" placing the given string in the center \n",
    "print(Sample_String.casefold()) #Removes all case distinctions\n",
    "print(Sample_String.count('Python')) # counts the number of occurences of the substring\n",
    "print(Sample_String.endswith('Methods')) # check if string ends with the given substring\n",
    "print(Sample_String.find('r')) # Returns the index of the character or substring\n",
    "print(Sample_String.isalpha()) # Checks if all the characters are alphabets.\n",
    "print(Sample_String_1.join(Sample_String_2)) # Each char in String-2 is conactenated to the beginning of String-1\n",
    "\n",
    "###################################################################################################################\n",
    "#List Methods\n",
    "\n",
    "Sample_List_1 = [56,75,89,78]\n",
    "Sample_List_2 = [2,3,6,6,5]\n",
    "\n",
    "Sample_List_1.append(100) # adding an element at the end of the list\n",
    "print(Sample_List_1)\n",
    "\n",
    "Sample_List_1.extend(Sample_List_2) # Extending a list by adding another list to it\n",
    "print(Sample_List_1)\n",
    "\n",
    "Sample_List_1.insert(0,90) # inserts an element at the specified index\n",
    "print(Sample_List_1)\n",
    "\n",
    "Sample_List_1.remove(90) # removes the element specified\n",
    "print(Sample_List_1)\n",
    "\n",
    "print(Sample_List_1.count(6)) # counts the number of occurences of the element\n",
    "\n",
    "print(Sample_List_1.index(100)) # returns the index of the element specified\n",
    "\n",
    "Sample_List_1.reverse()\n",
    "print(Sample_List_1) # reverses the list\n",
    "\n",
    "print(Sample_List_1.pop(2)) # returns the element in the given index and deletes it from the list\n",
    "print(Sample_List_1)\n",
    "\n",
    "Sample_List_1.sort() # Sorts the list in ascending order\n",
    "print(Sample_List_1)\n",
    "\n",
    "Sample_List_1.clear() # Clears all the elements in the list\n",
    "print(Sample_List_1)\n",
    "\n",
    "###################################################################################################################\n",
    "#Dictionary Methods\n",
    "\n",
    "Dict ={1:'Python',2:'Data Science',3:'R',4:'SQL',5:'Git'}\n",
    "Dict_2 = {6:'Weka'}\n",
    "key_s ={10,20,30,40,50}\n",
    "value=\"test\"\n",
    "\n",
    "print(Dict.items()) # prints all the key-value pairs\n",
    "\n",
    "new_dict = dict.fromkeys(key_s,value) # creates a new directory from the sequence of elements and value provided\n",
    "print(new_dict)\n",
    "\n",
    "print(Dict.get(1)) # returns the value when the key is passed\n",
    "\n",
    "print(Dict.keys()) # returns the key values\n",
    "\n",
    "Dict.update(Dict_2) # updates the dict according to the argument dictionary\n",
    "print(Dict)"
   ]
  }
 ],
 "metadata": {
  "kernelspec": {
   "display_name": "Python 3",
   "language": "python",
   "name": "python3"
  },
  "language_info": {
   "codemirror_mode": {
    "name": "ipython",
    "version": 3
   },
   "file_extension": ".py",
   "mimetype": "text/x-python",
   "name": "python",
   "nbconvert_exporter": "python",
   "pygments_lexer": "ipython3",
   "version": "3.6.7"
  }
 },
 "nbformat": 4,
 "nbformat_minor": 2
}
